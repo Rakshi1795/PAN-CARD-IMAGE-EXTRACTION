{
 "cells": [
  {
   "cell_type": "code",
   "execution_count": 1,
   "id": "e62fdd63",
   "metadata": {},
   "outputs": [],
   "source": [
    "import numpy as np\n",
    "import pandas as pd\n",
    "import re\n",
    "import pytesseract\n",
    "import cv2\n",
    "import matplotlib.pyplot as plt\n",
    "from PIL import Image\n",
    "import os\n",
    "from colorama import Fore, Style\n",
    "import matplotlib.colors as mcolors\n",
    "import matplotlib.patches as mpatch"
   ]
  },
  {
   "cell_type": "code",
   "execution_count": 2,
   "id": "ba06ab4f",
   "metadata": {},
   "outputs": [],
   "source": [
    "import warnings\n",
    "warnings.filterwarnings(action='ignore')"
   ]
  },
  {
   "cell_type": "code",
   "execution_count": 3,
   "id": "084499e3",
   "metadata": {},
   "outputs": [],
   "source": [
    "pytesseract.pytesseract.tesseract_cmd = r'C:\\Program Files\\Tesseract-OCR\\tesseract.exe'"
   ]
  },
  {
   "cell_type": "code",
   "execution_count": 4,
   "id": "7a77eedc",
   "metadata": {},
   "outputs": [],
   "source": [
    "c_ = Fore.CYAN\n",
    "m_ = Fore.MAGENTA\n",
    "r_ = Fore.RED\n",
    "b_ = Fore.BLUE\n",
    "y_ = Fore.YELLOW\n",
    "g_ = Fore.GREEN\n",
    "w_ = Fore.WHITE"
   ]
  },
  {
   "cell_type": "code",
   "execution_count": 5,
   "id": "0966c1ba",
   "metadata": {},
   "outputs": [],
   "source": [
    "image_path = r\"C:\\Users\\hp\\OneDrive\\Desktop\\PAN CARD.jpg\"\n",
    "fn = '[A-Z]{8}[\" \"][A-Z]{6}' # RE script for Father name\n",
    "mn = '[A-Z]{5}[\" \"][A-Z]{6}' # RE script for name"
   ]
  },
  {
   "cell_type": "code",
   "execution_count": 6,
   "id": "564c77a3",
   "metadata": {},
   "outputs": [],
   "source": [
    "def ExtractDetails(image_path):\n",
    "    text = pytesseract.image_to_string(Image.open(image_path), lang = 'eng+hin')\n",
    "    text = text.replace(\"\\n\", \" \")\n",
    "    text = text.replace(\" \", \" \")\n",
    "    text = text.replace(\"\\n\",\" \")\n",
    "    text = text.replace(\"DEPARTMENT\", \" \")\n",
    "    text = text.replace(\"INCOME\", \" \")\n",
    "    text = text.replace(\"TAX\", \" \")\n",
    "    text = text.replace(\"INDIA\", \" \")\n",
    "    text = text.replace(\"GOVT\", \" \")\n",
    "    text = text.replace(\"of\",\" \")\n",
    "    regex_DOB = re.compile('\\d{2}[-/]\\d{2}[-/]\\d{4}')## RE script for Date of Birth\n",
    "    regex_num = re.compile('[A-Z]{5}[0-9]{4}[A-Z]{1}')## RE script for Pancard number\n",
    "    regex_nam = re.compile(mn)\n",
    "    regex_fathernam = re.compile(fn)\n",
    "    \n",
    "    print('=================================')\n",
    "    \n",
    "    if len(regex_num.findall(text)) == 0:\n",
    "        print(f'{y_}Blurry Image for tesseract. Input new clear image for viewing pan card number !!!')\n",
    "        print(Style.RESET_ALL)\n",
    "    else:\n",
    "        print(\"Pan Card Number : \", regex_num.findall(text)[0])## printing pancard number\n",
    "\n",
    "    print('=================================')\n",
    "\n",
    "    if len(regex_DOB.findall(text)) == 0:\n",
    "        print(f'{y_}Blurry Image for tesseract. Input new clear image for viewing DATE OF BIRTH !!!')\n",
    "        print(Style.RESET_ALL)\n",
    "    else:\n",
    "        print(\"DATE OF BIRTH : \", regex_DOB.findall(text)[0])## printing Date of Birth\n",
    "\n",
    "    print('=================================')\n",
    "\n",
    "    if len(regex_nam.findall(text)) == 0:\n",
    "        print(f'{y_}Blurry Image for tesseract. Input new clear image for viewing Name !!!')\n",
    "        print(Style.RESET_ALL)\n",
    "    else:\n",
    "        print(\"Name : \", regex_nam.findall(text)[0])## printing pancard name\n",
    "\n",
    "    print('=================================')\n",
    "\n",
    "    if len(regex_fathernam.findall(text)) == 0:\n",
    "        print(f'{y_}Blurry Image for tesseract. Input new clear image for viewing Name !!!')\n",
    "        print(Style.RESET_ALL)\n",
    "    else:\n",
    "        print(\"Father Name : \", regex_fathernam.findall(text)[0])## printing Father name of pan card holder\n",
    "    print('=================================')"
   ]
  },
  {
   "cell_type": "code",
   "execution_count": 7,
   "id": "93c1267f",
   "metadata": {},
   "outputs": [],
   "source": [
    "def showimage():\n",
    "    image = cv2.imread(os.path.join(image_path))## Reading pancard image\n",
    "    image = cv2.cvtColor(image, cv2.COLOR_BGR2RGB)## converting color from bgr to rgb\n",
    "    plt.imshow(image)## to plot the image\n",
    "    plt.axis(\"off\")"
   ]
  },
  {
   "cell_type": "code",
   "execution_count": 8,
   "id": "203119ad",
   "metadata": {},
   "outputs": [
    {
     "name": "stdout",
     "output_type": "stream",
     "text": [
      "=================================\n",
      "Pan Card Number :  BOTPJ1870B\n",
      "=================================\n",
      "DATE OF BIRTH :  17/12/1995\n",
      "=================================\n",
      "Name :  SHITH JAYARA\n",
      "=================================\n",
      "Father Name :  RAKSHITH JAYARA\n",
      "=================================\n"
     ]
    },
    {
     "ename": "error",
     "evalue": "OpenCV(4.5.4) D:\\a\\opencv-python\\opencv-python\\opencv\\modules\\imgproc\\src\\color.cpp:182: error: (-215:Assertion failed) !_src.empty() in function 'cv::cvtColor'\n",
     "output_type": "error",
     "traceback": [
      "\u001b[1;31m---------------------------------------------------------------------------\u001b[0m",
      "\u001b[1;31merror\u001b[0m                                     Traceback (most recent call last)",
      "Input \u001b[1;32mIn [8]\u001b[0m, in \u001b[0;36m<cell line: 4>\u001b[1;34m()\u001b[0m\n\u001b[0;32m      2\u001b[0m imgpath \u001b[38;5;241m=\u001b[39m \u001b[38;5;124mr\u001b[39m\u001b[38;5;124m\"\u001b[39m\u001b[38;5;124m.jpg\u001b[39m\u001b[38;5;124m\"\u001b[39m\n\u001b[0;32m      3\u001b[0m img \u001b[38;5;241m=\u001b[39m cv2\u001b[38;5;241m.\u001b[39mimread(imgpath)\u001b[38;5;66;03m## Reading the image from the path\u001b[39;00m\n\u001b[1;32m----> 4\u001b[0m image \u001b[38;5;241m=\u001b[39m \u001b[43mcv2\u001b[49m\u001b[38;5;241;43m.\u001b[39;49m\u001b[43mcvtColor\u001b[49m\u001b[43m(\u001b[49m\u001b[43mimg\u001b[49m\u001b[43m,\u001b[49m\u001b[43m \u001b[49m\u001b[43mcv2\u001b[49m\u001b[38;5;241;43m.\u001b[39;49m\u001b[43mCOLOR_BGR2RGB\u001b[49m\u001b[43m)\u001b[49m\u001b[38;5;66;03m## converting the color from  BGR to RGB\u001b[39;00m\n\u001b[0;32m      5\u001b[0m cut_image \u001b[38;5;241m=\u001b[39m img[\u001b[38;5;241m480\u001b[39m:\u001b[38;5;241m764\u001b[39m,\u001b[38;5;241m850\u001b[39m:\u001b[38;5;241m1115\u001b[39m]\u001b[38;5;66;03m## Cropping the image\u001b[39;00m\n\u001b[0;32m      6\u001b[0m plt\u001b[38;5;241m.\u001b[39mimshow(cut_image)\u001b[38;5;66;03m## Showing the image\u001b[39;00m\n",
      "\u001b[1;31merror\u001b[0m: OpenCV(4.5.4) D:\\a\\opencv-python\\opencv-python\\opencv\\modules\\imgproc\\src\\color.cpp:182: error: (-215:Assertion failed) !_src.empty() in function 'cv::cvtColor'\n"
     ]
    }
   ],
   "source": [
    "ExtractDetails(image_path)\n",
    "imgpath = r\".jpg\"\n",
    "img = cv2.imread(imgpath)## Reading the image from the path\n",
    "image = cv2.cvtColor(img, cv2.COLOR_BGR2RGB)## converting the color from  BGR to RGB\n",
    "cut_image = img[480:764,850:1115]## Cropping the image\n",
    "plt.imshow(cut_image)## Showing the image\n",
    "plt.axis('off')"
   ]
  },
  {
   "cell_type": "code",
   "execution_count": null,
   "id": "1770e338",
   "metadata": {},
   "outputs": [],
   "source": []
  }
 ],
 "metadata": {
  "kernelspec": {
   "display_name": "Python 3 (ipykernel)",
   "language": "python",
   "name": "python3"
  },
  "language_info": {
   "codemirror_mode": {
    "name": "ipython",
    "version": 3
   },
   "file_extension": ".py",
   "mimetype": "text/x-python",
   "name": "python",
   "nbconvert_exporter": "python",
   "pygments_lexer": "ipython3",
   "version": "3.9.12"
  }
 },
 "nbformat": 4,
 "nbformat_minor": 5
}
